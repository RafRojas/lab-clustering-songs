{
 "cells": [
  {
   "cell_type": "code",
   "execution_count": 1,
   "id": "a7c93b8a",
   "metadata": {},
   "outputs": [],
   "source": [
    "from config import *\n",
    "import spotipy\n",
    "import json\n",
    "import pandas as pd\n",
    "from spotipy.oauth2 import SpotifyClientCredentials\n",
    "import pickle\n",
    "from sklearn.cluster import KMeans"
   ]
  },
  {
   "cell_type": "code",
   "execution_count": 9,
   "id": "e58ad5d8",
   "metadata": {},
   "outputs": [],
   "source": [
    "sp = spotipy.Spotify(auth_manager=SpotifyClientCredentials(client_id= Client_ID, client_secret= Client_Secret))"
   ]
  },
  {
   "cell_type": "code",
   "execution_count": 2,
   "id": "0f5ab0d1",
   "metadata": {},
   "outputs": [],
   "source": [
    "song_db=pd.read_csv(\"data/final_dataset_with_prediction.csv\")"
   ]
  },
  {
   "cell_type": "code",
   "execution_count": 3,
   "id": "e5ff3d64",
   "metadata": {},
   "outputs": [],
   "source": [
    "def load(filename = \"filename.pickle\"): \n",
    "    try: \n",
    "        with open(filename, \"rb\") as file: \n",
    "            return pickle.load(file) \n",
    "    except FileNotFoundError: \n",
    "        print(\"File not found!\") "
   ]
  },
  {
   "cell_type": "code",
   "execution_count": 4,
   "id": "4771bf6d",
   "metadata": {},
   "outputs": [],
   "source": [
    "scalar = load(\"scalers/standard.pickle\")"
   ]
  },
  {
   "cell_type": "code",
   "execution_count": 5,
   "id": "328bfdb1",
   "metadata": {},
   "outputs": [],
   "source": [
    "model = load(\"models/kmeans_7.pickle\")"
   ]
  },
  {
   "cell_type": "code",
   "execution_count": 6,
   "id": "4ea9d1ed",
   "metadata": {},
   "outputs": [],
   "source": [
    "def search_song(title, artist, ask_for_options=True):\n",
    "    sp = spotipy.Spotify(auth_manager=SpotifyClientCredentials(client_id= Client_ID, client_secret= Client_Secret))\n",
    "    print(\"Searching for song {} of artist {}\".format(title,artist))\n",
    "    results = sp.search(q=\"track:\"+title+\" artist:\"+artist,limit=10)\n",
    "    if ask_for_options == True:\n",
    "        if len(results['tracks']['items']) > 1:\n",
    "            count = 0\n",
    "            for item in results['tracks']['items']:\n",
    "                print(count,\"Song: '{}', artist: '{}', album: '{}', duration: {} minutes\".format(item['name'], item['artists'][0]['name'],item['album']['name'], round((item['duration_ms']/60000),2)))\n",
    "                count = count + 1\n",
    "            song_index = int((input(\"Desirable song (row number): \")))\n",
    "            return results['tracks']['items'][song_index]['uri'] \n",
    "\n",
    "        elif len(results['tracks']['items']) == 1:\n",
    "            return results['tracks']['items'][0]['uri'] \n",
    "        else:\n",
    "            return ''\n",
    "    \n",
    "    if ask_for_options == False:\n",
    "        if len(results['tracks']['items']) >= 1:\n",
    "            return results['tracks']['items'][0]['uri']\n",
    "        else:\n",
    "            return ''"
   ]
  },
  {
   "cell_type": "code",
   "execution_count": 7,
   "id": "b9138b0c",
   "metadata": {},
   "outputs": [],
   "source": [
    "def is_hot_song(uri):\n",
    "    return (uri in song_db['uri'].unique()) and ((song_db[song_db['uri'] == uri]['type'] == 'hot')[0])"
   ]
  },
  {
   "cell_type": "code",
   "execution_count": 8,
   "id": "76118960",
   "metadata": {},
   "outputs": [],
   "source": [
    "def search_url(title, artist):\n",
    "    sp = spotipy.Spotify(auth_manager=SpotifyClientCredentials(client_id= Client_ID, client_secret= Client_Secret))\n",
    "    results = sp.search(q=\"track:\"+title+\" artist:\"+artist,limit=10)\n",
    "    song_name=results['tracks']['items'][0]['name']\n",
    "    song_artist=results['tracks']['items'][0]['artists'][0]['name']\n",
    "    song_url=results['tracks']['items'][0]['external_urls']['spotify']\n",
    "    return song_name, song_artist, song_url"
   ]
  },
  {
   "cell_type": "code",
   "execution_count": 10,
   "id": "670e34f3",
   "metadata": {},
   "outputs": [],
   "source": [
    "def get_song():\n",
    "    answer = True\n",
    "    while answer == True:\n",
    "        artist = str(input(\"Please, enter the name of the artist: \"))\n",
    "        song = str(input(\"Please, enter the name of the track: \"))\n",
    "        song_id = search_song(song,artist)\n",
    "        if song_id=='':\n",
    "            print(\"Spotify doesn't recognize that song\")\n",
    "            get_song()\n",
    "        audio_features = pd.DataFrame()\n",
    "        results = sp.audio_features(song_id)\n",
    "        audio_features = pd.concat([audio_features, pd.DataFrame(results)])\n",
    "        y=audio_features[['danceability', 'energy', 'key',\n",
    "       'loudness', 'mode', 'speechiness', 'acousticness', 'instrumentalness',\n",
    "       'liveness', 'tempo', 'time_signature']]\n",
    "        y_scaled=scalar.transform(y)\n",
    "        pred_cluster=model.predict(y_scaled)\n",
    "        if is_hot_song(song_id):\n",
    "            list_of_hot_songs = song_db[song_db['type'] == 'hot']\n",
    "            hot_same_cluster_songs = list_of_hot_songs[list_of_hot_songs['kmeans_7'] == pred_cluster[0]]\n",
    "            sample_song = hot_same_cluster_songs.sample()\n",
    "            sample_artist = sample_song['artist_name']\n",
    "            sample_track = sample_song['track_name']\n",
    "            artist_sample = search_url(sample_track, sample_artist)[1]\n",
    "            track_sample = search_url(sample_track, sample_artist)[0]\n",
    "            url=search_url(sample_track, sample_artist)[2]\n",
    "            print(url)\n",
    "            print(\"Song: \" + track_sample + \" from Artist: \"+ artist_sample)\n",
    "        else:\n",
    "            list_of_not_songs = song_db[song_db['type'] != 'hot']\n",
    "            not_same_cluster_songs = list_of_not_songs[list_of_not_songs['kmeans_7'] == pred_cluster[0]]\n",
    "            sample_song = not_same_cluster_songs.sample()\n",
    "            sample_artist = sample_song['artist_name']\n",
    "            sample_track = sample_song['track_name']\n",
    "            artist_sample = search_url(sample_track, sample_artist)[1]\n",
    "            track_sample = search_url(sample_track, sample_artist)[0]\n",
    "            url=search_url(sample_track, sample_artist)[2]\n",
    "            print(url)\n",
    "            print(\"Song: \" + track_sample + \" from Artist: \"+ artist_sample)\n",
    "        user_answer=str(input(\"Would like to hear another song (yes or no): \"))\n",
    "        if user_answer.lower()=='yes':\n",
    "            answer=True\n",
    "        else:\n",
    "            answer=False"
   ]
  },
  {
   "cell_type": "code",
   "execution_count": 11,
   "id": "2b43b23e",
   "metadata": {},
   "outputs": [
    {
     "name": "stdout",
     "output_type": "stream",
     "text": [
      "Please, enter the name of the artist: queen\n",
      "Please, enter the name of the track: dont stop\n",
      "Searching for song dont stop of artist queen\n",
      "0 Song: 'Don't Stop Me Now - Remastered 2011', artist: 'Queen', album: 'Jazz (Deluxe Remastered Version)', duration: 3.49 minutes\n",
      "1 Song: 'Don't Stop Me Now', artist: 'Queen', album: 'Jazz', duration: 3.49 minutes\n",
      "2 Song: 'Don't Stop Me Now - …revisited', artist: 'Queen', album: 'Bohemian Rhapsody (The Original Soundtrack)', duration: 3.63 minutes\n",
      "3 Song: 'Don't Stop Me Now - Remastered 2011', artist: 'Queen', album: 'Greatest Hits', duration: 3.49 minutes\n",
      "4 Song: 'Don't Stop Me Now - With Long-Lost Guitars', artist: 'Queen', album: 'Jazz (Deluxe Remastered Version)', duration: 3.57 minutes\n",
      "5 Song: 'Don't Stop Me Now - Remastered 2011', artist: 'Queen', album: 'The Platinum Collection (Greatest Hits I II & III - 2011 Remaster)', duration: 3.49 minutes\n",
      "6 Song: 'Don't Stop Me Now', artist: 'Queen', album: 'Discover More Classic Rock', duration: 3.49 minutes\n",
      "7 Song: 'Don't Stop Me Now - Remastered', artist: 'Queen', album: 'Greatest Hits - We Will Rock You Edition', duration: 3.49 minutes\n",
      "8 Song: 'Don't Stop Me Now - Live At Rock In Rio, Lisbon, Portugal, 2016', artist: 'Queen', album: 'Live Around the World (Deluxe)', duration: 4.17 minutes\n",
      "9 Song: 'Don't Stop Me Now - Live', artist: 'Queen', album: 'Live Killers', duration: 4.47 minutes\n",
      "Desirable song (row number): 0\n"
     ]
    },
    {
     "name": "stderr",
     "output_type": "stream",
     "text": [
      "D:\\Anaconda\\lib\\site-packages\\sklearn\\base.py:450: UserWarning: X does not have valid feature names, but KMeans was fitted with feature names\n",
      "  warnings.warn(\n"
     ]
    },
    {
     "name": "stdout",
     "output_type": "stream",
     "text": [
      "https://open.spotify.com/track/3lNSX9MR9pzgqKfype7exU\n",
      "Song: In the Evening by the Moonlight - Mono; Single Edit; 2017 Remaster from Artist: Nina Simone\n",
      "Would like to hear another song (yes or no): yes\n",
      "Please, enter the name of the artist: queen\n",
      "Please, enter the name of the track: dont stop\n",
      "Searching for song dont stop of artist queen\n",
      "0 Song: 'Don't Stop Me Now - Remastered 2011', artist: 'Queen', album: 'Jazz (Deluxe Remastered Version)', duration: 3.49 minutes\n",
      "1 Song: 'Don't Stop Me Now', artist: 'Queen', album: 'Jazz', duration: 3.49 minutes\n",
      "2 Song: 'Don't Stop Me Now - …revisited', artist: 'Queen', album: 'Bohemian Rhapsody (The Original Soundtrack)', duration: 3.63 minutes\n",
      "3 Song: 'Don't Stop Me Now - Remastered 2011', artist: 'Queen', album: 'Greatest Hits', duration: 3.49 minutes\n",
      "4 Song: 'Don't Stop Me Now - With Long-Lost Guitars', artist: 'Queen', album: 'Jazz (Deluxe Remastered Version)', duration: 3.57 minutes\n",
      "5 Song: 'Don't Stop Me Now - Remastered 2011', artist: 'Queen', album: 'The Platinum Collection (Greatest Hits I II & III - 2011 Remaster)', duration: 3.49 minutes\n",
      "6 Song: 'Don't Stop Me Now', artist: 'Queen', album: 'Discover More Classic Rock', duration: 3.49 minutes\n",
      "7 Song: 'Don't Stop Me Now - Remastered', artist: 'Queen', album: 'Greatest Hits - We Will Rock You Edition', duration: 3.49 minutes\n",
      "8 Song: 'Don't Stop Me Now - Live At Rock In Rio, Lisbon, Portugal, 2016', artist: 'Queen', album: 'Live Around the World (Deluxe)', duration: 4.17 minutes\n",
      "9 Song: 'Don't Stop Me Now - Live', artist: 'Queen', album: 'Live Killers', duration: 4.47 minutes\n",
      "Desirable song (row number): 3\n"
     ]
    },
    {
     "name": "stderr",
     "output_type": "stream",
     "text": [
      "D:\\Anaconda\\lib\\site-packages\\sklearn\\base.py:450: UserWarning: X does not have valid feature names, but KMeans was fitted with feature names\n",
      "  warnings.warn(\n"
     ]
    },
    {
     "name": "stdout",
     "output_type": "stream",
     "text": [
      "https://open.spotify.com/track/09BZvRoyzf58jpjBStkEzg\n",
      "Song: ¿Qué Será? / Ritmo Que Pesa / Suelta los Amarres / Revolución en Estéreo / Lo de Más - En Vivo from Artist: Cultura Profética\n",
      "Would like to hear another song (yes or no): no\n"
     ]
    }
   ],
   "source": [
    "get_song()"
   ]
  },
  {
   "cell_type": "code",
   "execution_count": null,
   "id": "3ba35d05",
   "metadata": {},
   "outputs": [],
   "source": []
  }
 ],
 "metadata": {
  "kernelspec": {
   "display_name": "Python 3 (ipykernel)",
   "language": "python",
   "name": "python3"
  },
  "language_info": {
   "codemirror_mode": {
    "name": "ipython",
    "version": 3
   },
   "file_extension": ".py",
   "mimetype": "text/x-python",
   "name": "python",
   "nbconvert_exporter": "python",
   "pygments_lexer": "ipython3",
   "version": "3.9.12"
  }
 },
 "nbformat": 4,
 "nbformat_minor": 5
}
